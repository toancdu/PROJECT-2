{
 "cells": [
  {
   "cell_type": "code",
   "execution_count": 16,
   "metadata": {},
   "outputs": [],
   "source": [
    "from pyspark.sql import SparkSession"
   ]
  },
  {
   "cell_type": "code",
   "execution_count": 5,
   "metadata": {},
   "outputs": [],
   "source": [
    "spark = SparkSession.builder.appName(\"abc\").getOrCreate()"
   ]
  },
  {
   "cell_type": "code",
   "execution_count": 6,
   "metadata": {},
   "outputs": [],
   "source": [
    "rdd = spark.sparkContext.textFile(\n",
    "    \"D:\\A-LEARNING\\IT\\PYTHON_PROJECT\\PROJECT-2\\dataset.txt\")"
   ]
  },
  {
   "cell_type": "code",
   "execution_count": 7,
   "metadata": {},
   "outputs": [
    {
     "data": {
      "text/plain": [
       "6"
      ]
     },
     "execution_count": 7,
     "metadata": {},
     "output_type": "execute_result"
    }
   ],
   "source": [
    "rdd.count()"
   ]
  },
  {
   "cell_type": "code",
   "execution_count": 8,
   "metadata": {},
   "outputs": [
    {
     "data": {
      "text/plain": [
       "['cong hoa xa hoi chu nghia viet nam',\n",
       " 'doc lap tu do hanh phuc',\n",
       " 'toi dang hoc data engineer',\n",
       " 'goodjob',\n",
       " 'cong hoa xa hoi chu nghia viet nam',\n",
       " 'toi dang hoc data engineer']"
      ]
     },
     "execution_count": 8,
     "metadata": {},
     "output_type": "execute_result"
    }
   ],
   "source": [
    "rdd.collect()"
   ]
  },
  {
   "cell_type": "code",
   "execution_count": 9,
   "metadata": {},
   "outputs": [],
   "source": [
    "rdd2 = rdd.flatMap(lambda x: x.split(\" \"))"
   ]
  },
  {
   "cell_type": "code",
   "execution_count": 10,
   "metadata": {},
   "outputs": [
    {
     "data": {
      "text/plain": [
       "['cong',\n",
       " 'hoa',\n",
       " 'xa',\n",
       " 'hoi',\n",
       " 'chu',\n",
       " 'nghia',\n",
       " 'viet',\n",
       " 'nam',\n",
       " 'doc',\n",
       " 'lap',\n",
       " 'tu',\n",
       " 'do',\n",
       " 'hanh',\n",
       " 'phuc',\n",
       " 'toi',\n",
       " 'dang',\n",
       " 'hoc',\n",
       " 'data',\n",
       " 'engineer',\n",
       " 'goodjob',\n",
       " 'cong',\n",
       " 'hoa',\n",
       " 'xa',\n",
       " 'hoi',\n",
       " 'chu',\n",
       " 'nghia',\n",
       " 'viet',\n",
       " 'nam',\n",
       " 'toi',\n",
       " 'dang',\n",
       " 'hoc',\n",
       " 'data',\n",
       " 'engineer']"
      ]
     },
     "execution_count": 10,
     "metadata": {},
     "output_type": "execute_result"
    }
   ],
   "source": [
    "rdd2.collect()"
   ]
  },
  {
   "cell_type": "code",
   "execution_count": 11,
   "metadata": {},
   "outputs": [],
   "source": [
    "rdd3 = rdd2.map(lambda word: (word, 1))"
   ]
  },
  {
   "cell_type": "code",
   "execution_count": 12,
   "metadata": {},
   "outputs": [
    {
     "data": {
      "text/plain": [
       "[('cong', 1),\n",
       " ('hoa', 1),\n",
       " ('xa', 1),\n",
       " ('hoi', 1),\n",
       " ('chu', 1),\n",
       " ('nghia', 1),\n",
       " ('viet', 1),\n",
       " ('nam', 1),\n",
       " ('doc', 1),\n",
       " ('lap', 1),\n",
       " ('tu', 1),\n",
       " ('do', 1),\n",
       " ('hanh', 1),\n",
       " ('phuc', 1),\n",
       " ('toi', 1),\n",
       " ('dang', 1),\n",
       " ('hoc', 1),\n",
       " ('data', 1),\n",
       " ('engineer', 1),\n",
       " ('goodjob', 1),\n",
       " ('cong', 1),\n",
       " ('hoa', 1),\n",
       " ('xa', 1),\n",
       " ('hoi', 1),\n",
       " ('chu', 1),\n",
       " ('nghia', 1),\n",
       " ('viet', 1),\n",
       " ('nam', 1),\n",
       " ('toi', 1),\n",
       " ('dang', 1),\n",
       " ('hoc', 1),\n",
       " ('data', 1),\n",
       " ('engineer', 1)]"
      ]
     },
     "execution_count": 12,
     "metadata": {},
     "output_type": "execute_result"
    }
   ],
   "source": [
    "rdd3.collect()"
   ]
  },
  {
   "cell_type": "code",
   "execution_count": 13,
   "metadata": {},
   "outputs": [],
   "source": [
    "rdd4 = rdd3.reduceByKey(lambda x, y: x+y)"
   ]
  },
  {
   "cell_type": "code",
   "execution_count": 17,
   "metadata": {},
   "outputs": [
    {
     "data": {
      "text/plain": [
       "[('cong', 2),\n",
       " ('hoa', 2),\n",
       " ('xa', 2),\n",
       " ('chu', 2),\n",
       " ('viet', 2),\n",
       " ('doc', 1),\n",
       " ('lap', 1),\n",
       " ('do', 1),\n",
       " ('phuc', 1),\n",
       " ('toi', 2),\n",
       " ('dang', 2),\n",
       " ('hoc', 2),\n",
       " ('engineer', 2),\n",
       " ('goodjob', 1),\n",
       " ('hoi', 2),\n",
       " ('nghia', 2),\n",
       " ('nam', 2),\n",
       " ('tu', 1),\n",
       " ('hanh', 1),\n",
       " ('data', 2)]"
      ]
     },
     "execution_count": 17,
     "metadata": {},
     "output_type": "execute_result"
    }
   ],
   "source": [
    "rdd4.collect()"
   ]
  },
  {
   "cell_type": "code",
   "execution_count": null,
   "metadata": {},
   "outputs": [],
   "source": []
  }
 ],
 "metadata": {
  "kernelspec": {
   "display_name": ".venv",
   "language": "python",
   "name": "python3"
  },
  "language_info": {
   "codemirror_mode": {
    "name": "ipython",
    "version": 3
   },
   "file_extension": ".py",
   "mimetype": "text/x-python",
   "name": "python",
   "nbconvert_exporter": "python",
   "pygments_lexer": "ipython3",
   "version": "3.10.11"
  }
 },
 "nbformat": 4,
 "nbformat_minor": 2
}
